{
 "cells": [
  {
   "cell_type": "code",
   "execution_count": 1,
   "id": "382409cf",
   "metadata": {},
   "outputs": [],
   "source": [
    "import nest_asyncio\n",
    "nest_asyncio.apply()"
   ]
  },
  {
   "cell_type": "code",
   "execution_count": 2,
   "id": "f8be8384",
   "metadata": {},
   "outputs": [],
   "source": [
    "import warnings\n",
    "# Suppress all warnings\n",
    "warnings.filterwarnings(\"ignore\")"
   ]
  },
  {
   "cell_type": "code",
   "execution_count": 3,
   "id": "cd653a82",
   "metadata": {},
   "outputs": [],
   "source": [
    "import os\n",
    "from dotenv import load_dotenv\n",
    "\n",
    "load_dotenv()\n",
    "\n",
    "OPENAI_API_KEY = os.getenv(\"OPENAI_API_KEY\")"
   ]
  },
  {
   "cell_type": "code",
   "execution_count": 24,
   "id": "25a1b7de",
   "metadata": {},
   "outputs": [],
   "source": [
    "from llama_index.llms.openai import OpenAI\n",
    "\n",
    "# llm = OpenAI(model=\"gpt-3.5-turbo\")\n",
    "llm = OpenAI(model=\"gpt-4-1106-preview\")"
   ]
  },
  {
   "cell_type": "code",
   "execution_count": 5,
   "id": "450510ee",
   "metadata": {},
   "outputs": [],
   "source": [
    "papers = ['board_meeting_dec23.pdf',\n",
    "         'board_meeting_nov23.pdf',\n",
    "         'board_meeting_oct23.pdf']"
   ]
  },
  {
   "cell_type": "code",
   "execution_count": 6,
   "id": "a461bb68",
   "metadata": {},
   "outputs": [
    {
     "name": "stdout",
     "output_type": "stream",
     "text": [
      "Getting tools for paper: board_meeting_dec23.pdf\n",
      "Getting tools for paper: board_meeting_nov23.pdf\n",
      "Getting tools for paper: board_meeting_oct23.pdf\n"
     ]
    }
   ],
   "source": [
    "from utils import get_doc_tools\n",
    "from pathlib import Path\n",
    "\n",
    "paper_to_tools_dict = {}\n",
    "for paper in papers:\n",
    "    print(f\"Getting tools for paper: {paper}\")\n",
    "    vector_tool, summary_tool = get_doc_tools(paper, Path(paper).stem)\n",
    "    paper_to_tools_dict[paper] = [vector_tool, summary_tool]"
   ]
  },
  {
   "cell_type": "code",
   "execution_count": 8,
   "id": "56989fac",
   "metadata": {},
   "outputs": [],
   "source": [
    "all_tools = [t for paper in papers for t in paper_to_tools_dict[paper]]"
   ]
  },
  {
   "cell_type": "markdown",
   "id": "91ccee75",
   "metadata": {},
   "source": [
    "# Agents with tool selection capability"
   ]
  },
  {
   "cell_type": "code",
   "execution_count": 9,
   "id": "9025ef25",
   "metadata": {},
   "outputs": [],
   "source": [
    "# define an \"object\" index and retriever over these tools\n",
    "from llama_index.core import VectorStoreIndex\n",
    "from llama_index.core.objects import ObjectIndex\n",
    "\n",
    "obj_index = ObjectIndex.from_objects(\n",
    "    all_tools,\n",
    "    index_cls=VectorStoreIndex,\n",
    ")"
   ]
  },
  {
   "cell_type": "code",
   "execution_count": 10,
   "id": "c3b90368",
   "metadata": {},
   "outputs": [],
   "source": [
    "obj_retriever = obj_index.as_retriever(similarity_top_k=3)"
   ]
  },
  {
   "cell_type": "code",
   "execution_count": 11,
   "id": "c7691c3e",
   "metadata": {},
   "outputs": [],
   "source": [
    "tools = obj_retriever.retrieve(\n",
    "    \"summarise the nov 23 board meeting notes\"\n",
    ")"
   ]
  },
  {
   "cell_type": "code",
   "execution_count": 13,
   "id": "1a2e17db",
   "metadata": {},
   "outputs": [
    {
     "data": {
      "text/plain": [
       "ToolMetadata(description='Useful for summarization questions related to board_meeting_nov23', name='summary_tool_board_meeting_nov23', fn_schema=<class 'llama_index.core.tools.types.DefaultToolFnSchema'>, return_direct=False)"
      ]
     },
     "execution_count": 13,
     "metadata": {},
     "output_type": "execute_result"
    }
   ],
   "source": [
    "tools[0].metadata"
   ]
  },
  {
   "cell_type": "code",
   "execution_count": 14,
   "id": "5685985d",
   "metadata": {},
   "outputs": [],
   "source": [
    "from llama_index.core.agent import FunctionCallingAgentWorker\n",
    "from llama_index.core.agent import AgentRunner\n",
    "\n",
    "agent_worker = FunctionCallingAgentWorker.from_tools(\n",
    "    tool_retriever=obj_retriever,\n",
    "    llm=llm, \n",
    "    system_prompt=\"\"\" \\\n",
    "You are an agent designed to answer queries over a set of given papers.\n",
    "Please always use the tools provided to answer a question. Do not rely on prior knowledge.\\\n",
    "\n",
    "\"\"\",\n",
    "    verbose=True\n",
    ")\n",
    "agent = AgentRunner(agent_worker)"
   ]
  },
  {
   "cell_type": "code",
   "execution_count": 21,
   "id": "c78146f3",
   "metadata": {},
   "outputs": [
    {
     "name": "stdout",
     "output_type": "stream",
     "text": [
      "Added user message to memory: was anything discussed about atopic dermatitis in any of the board meeting\n",
      "=== Calling Function ===\n",
      "Calling function: vector_tool_board_meeting_dec23 with args: {\"query\": \"atopic dermatitis\"}\n",
      "=== Function Output ===\n",
      "The College of Pharmacy recommends updating the approval criteria for Cibinqo ™ (abrocitinib) and Rinvoq® (upadacitinib) for the treatment of atopic dermatitis. The criteria include having an FDA-approved diagnosis of moderate-to-severe atopic dermatitis not adequately controlled with other systemic drug products, documented trials with specific topical therapies, and the medication being prescribed by a dermatologist, allergist, or immunologist. Additionally, there are specific age requirements for each medication and restrictions on concurrent use with certain therapies.\n",
      "=== Calling Function ===\n",
      "Calling function: vector_tool_board_meeting_nov23 with args: {\"query\": \"atopic dermatitis\"}\n",
      "=== Function Output ===\n",
      "Approval criteria for medications used to treat atopic dermatitis include having an FDA-approved diagnosis of moderate-to-severe atopic dermatitis not adequately controlled with topical prescription therapies, being a certain age or older, having documented trial failures with specific topical therapies, being prescribed by a qualified healthcare provider, and potentially meeting certain clinical exceptions. Additionally, there are specific age restrictions and duration limits for initial approvals and reauthorizations for these medications.\n",
      "=== Calling Function ===\n",
      "Calling function: vector_tool_board_meeting_oct23 with args: {\"query\": \"atopic dermatitis\"}\n",
      "=== Function Output ===\n",
      "Unique criteria applies for a diagnosis of atopic dermatitis (AD).\n",
      "=== LLM Response ===\n",
      "At the board meetings, there were discussions about atopic dermatitis. Some of the key points discussed include:\n",
      "\n",
      "1. The College of Pharmacy recommended updating the approval criteria for medications like Cibinqo™ (abrocitinib) and Rinvoq® (upadacitinib) for the treatment of atopic dermatitis. The criteria include having an FDA-approved diagnosis of moderate-to-severe atopic dermatitis not adequately controlled with other systemic drug products, documented trials with specific topical therapies, and the medication being prescribed by a dermatologist, allergist, or immunologist. There are also specific age requirements for each medication and restrictions on concurrent use with certain therapies.\n",
      "\n",
      "2. Approval criteria for medications used to treat atopic dermatitis include having an FDA-approved diagnosis of moderate-to-severe atopic dermatitis not adequately controlled with topical prescription therapies, being a certain age or older, having documented trial failures with specific topical therapies, being prescribed by a qualified healthcare provider, and potentially meeting certain clinical exceptions. Additionally, there are specific age restrictions and duration limits for initial approvals and reauthorizations for these medications.\n",
      "\n",
      "3. Unique criteria apply for a diagnosis of atopic dermatitis (AD).\n"
     ]
    }
   ],
   "source": [
    "response = agent.query(\n",
    "    \"was anything discussed about atopic dermatitis in any of the board meeting\"\n",
    ")\n",
    "# print(str(response))"
   ]
  },
  {
   "cell_type": "markdown",
   "id": "250962ab",
   "metadata": {},
   "source": [
    "# Agents without tool selection capabaility"
   ]
  },
  {
   "cell_type": "code",
   "execution_count": 16,
   "id": "b459fc51",
   "metadata": {},
   "outputs": [],
   "source": [
    "agent_worker = FunctionCallingAgentWorker.from_tools(\n",
    "    all_tools, \n",
    "    llm=llm, \n",
    "    verbose=True\n",
    ")\n",
    "agent = AgentRunner(agent_worker)"
   ]
  },
  {
   "cell_type": "code",
   "execution_count": 23,
   "id": "45cfded0",
   "metadata": {},
   "outputs": [
    {
     "name": "stdout",
     "output_type": "stream",
     "text": [
      "Added user message to memory: what was discussed about Annual Review of Imcivree during october 2023 board meetingsummarise the discussion\n",
      "=== Calling Function ===\n",
      "Calling function: summary_tool_board_meeting_oct23 with args: {\"input\": \"Annual Review of Imcivree\"}\n"
     ]
    },
    {
     "name": "stderr",
     "output_type": "stream",
     "text": [
      "Retrying llama_index.llms.openai.base.OpenAI._achat in 0.6758564311753312 seconds as it raised RateLimitError: Error code: 429 - {'error': {'message': 'Rate limit reached for gpt-3.5-turbo in organization org-Xnt90aHtb4ZX1UUscgKKvCl1 on tokens per min (TPM): Limit 60000, Used 57977, Requested 14528. Please try again in 12.505s. Visit https://platform.openai.com/account/rate-limits to learn more.', 'type': 'tokens', 'param': None, 'code': 'rate_limit_exceeded'}}.\n"
     ]
    },
    {
     "name": "stdout",
     "output_type": "stream",
     "text": [
      "=== Function Output ===\n",
      "The annual review of Imcivree includes evaluating the current prior authorization criteria, utilization of Imcivree, prior authorization process for Imcivree, market news and updates related to Imcivree, recommendations from the College of Pharmacy, details on the utilization of Imcivree, an increase in utilization compared to the previous year, demographics of members using Imcivree, top prescriber specialties, and its importance as a treatment option for eligible individuals for chronic weight management in individuals with specific genetic conditions.\n",
      "=== LLM Response ===\n",
      "The discussion about the Annual Review of Imcivree during the October 2023 board meeting included evaluating the current prior authorization criteria, utilization of Imcivree, prior authorization process, market news and updates, recommendations from the College of Pharmacy, details on utilization, increased utilization compared to the previous year, demographics of members using Imcivree, top prescriber specialties, and its importance as a treatment option for chronic weight management in individuals with specific genetic conditions.\n",
      "The discussion about the Annual Review of Imcivree during the October 2023 board meeting included evaluating the current prior authorization criteria, utilization of Imcivree, prior authorization process, market news and updates, recommendations from the College of Pharmacy, details on utilization, increased utilization compared to the previous year, demographics of members using Imcivree, top prescriber specialties, and its importance as a treatment option for chronic weight management in individuals with specific genetic conditions.\n"
     ]
    }
   ],
   "source": [
    "response = agent.query(\n",
    "    \"what was discussed about Annual Review of Imcivree during october 2023 board meeting\"\n",
    "    \"summarise the discussion\"    \n",
    ")"
   ]
  },
  {
   "cell_type": "code",
   "execution_count": 22,
   "id": "18bdd054",
   "metadata": {
    "scrolled": false
   },
   "outputs": [
    {
     "name": "stdout",
     "output_type": "stream",
     "text": [
      "Added user message to memory: was anything discussed about atopic dermatitis in any of the board meeting\n",
      "=== Calling Function ===\n",
      "Calling function: vector_tool_board_meeting_oct23 with args: {\"query\": \"atopic dermatitis\"}\n",
      "=== Function Output ===\n",
      "Unique criteria applies for a diagnosis of atopic dermatitis (AD).\n",
      "=== Calling Function ===\n",
      "Calling function: vector_tool_board_meeting_nov23 with args: {\"query\": \"atopic dermatitis\"}\n",
      "=== Function Output ===\n",
      "Approval criteria for medications used to treat atopic dermatitis include having an FDA-approved diagnosis of moderate-to-severe atopic dermatitis not adequately controlled with topical prescription therapies, being a certain age or older, having documented trial failures with specific topical therapies, being prescribed by a qualified healthcare provider, and in some cases, meeting specific trial or age restriction exceptions.\n",
      "=== Calling Function ===\n",
      "Calling function: vector_tool_board_meeting_dec23 with args: {\"query\": \"atopic dermatitis\"}\n",
      "=== Function Output ===\n",
      "The College of Pharmacy recommends updating the approval criteria for Cibinqo ™ (abrocitinib) and Rinvoq® (upadacitinib) for the treatment of atopic dermatitis. The criteria include an FDA-approved diagnosis of moderate-to-severe atopic dermatitis not adequately controlled with other systemic drug products, documented trials with specific topical therapies, and the requirement for the medication to be prescribed by a dermatologist, allergist, or immunologist. Additionally, there are specific age requirements for each medication and restrictions on concurrent use with certain therapies.\n",
      "=== LLM Response ===\n",
      "Atopic dermatitis was discussed in the board meetings. Here are some key points related to atopic dermatitis:\n",
      "\n",
      "1. Unique criteria apply for a diagnosis of atopic dermatitis (AD).\n",
      "2. Approval criteria for medications used to treat atopic dermatitis include having an FDA-approved diagnosis of moderate-to-severe atopic dermatitis not adequately controlled with topical prescription therapies, being a certain age or older, having documented trial failures with specific topical therapies, being prescribed by a qualified healthcare provider, and in some cases, meeting specific trial or age restriction exceptions.\n",
      "3. The College of Pharmacy recommends updating the approval criteria for Cibinqo™ (abrocitinib) and Rinvoq® (upadacitinib) for the treatment of atopic dermatitis. The criteria include an FDA-approved diagnosis of moderate-to-severe atopic dermatitis not adequately controlled with other systemic drug products, documented trials with specific topical therapies, and the requirement for the medication to be prescribed by a dermatologist, allergist, or immunologist. Additionally, there are specific age requirements for each medication and restrictions on concurrent use with certain therapies.\n"
     ]
    }
   ],
   "source": [
    "response = agent.query(\n",
    "    \"was anything discussed about atopic dermatitis in any of the board meeting\"\n",
    "    )"
   ]
  },
  {
   "cell_type": "code",
   "execution_count": 26,
   "id": "658ea897",
   "metadata": {},
   "outputs": [
    {
     "name": "stdout",
     "output_type": "stream",
     "text": [
      "Added user message to memory: was anything discussed about atopic dermatitis in any of the board meetinggive the source nodes for reference\n",
      "=== Calling Function ===\n",
      "Calling function: vector_tool_board_meeting_dec23 with args: {\"query\": \"atopic dermatitis\"}\n",
      "=== Function Output ===\n",
      "The College of Pharmacy recommends updating the approval criteria for Cibinqo ™ (abrocitinib) and Rinvoq® (upadacitinib) for the treatment of atopic dermatitis. The criteria include an FDA-approved diagnosis of moderate-to-severe atopic dermatitis not adequately controlled with other systemic drug products, documented trials with specific topical therapies, and the need for prescription by a dermatologist, allergist, or immunologist. Additionally, there are specific requirements related to age, prior treatments, concurrent medication use, and maximum approvable doses for Rinvoq®.\n",
      "=== Calling Function ===\n",
      "Calling function: vector_tool_board_meeting_nov23 with args: {\"query\": \"atopic dermatitis\"}\n",
      "=== Function Output ===\n",
      "Approval criteria for medications used to treat atopic dermatitis include having an FDA-approved diagnosis of moderate-to-severe atopic dermatitis not adequately controlled with topical prescription therapies, being a certain age or older, having documented trial failures with specific topical therapies, being prescribed by a qualified healthcare provider, and potentially meeting certain clinical exceptions. Initial approvals for these medications are typically for a specified duration, with the possibility of reauthorization if the member is responding well to treatment.\n",
      "=== Calling Function ===\n",
      "Calling function: vector_tool_board_meeting_oct23 with args: {\"query\": \"atopic dermatitis\"}\n",
      "=== Function Output ===\n",
      "Unique criteria applies for a diagnosis of atopic dermatitis (AD).\n",
      "=== LLM Response ===\n",
      "Atopic dermatitis was discussed in the board meetings. Here are the key points related to atopic dermatitis:\n",
      "\n",
      "1. The College of Pharmacy recommends updating the approval criteria for Cibinqo™ (abrocitinib) and Rinvoq® (upadacitinib) for the treatment of atopic dermatitis. The criteria include an FDA-approved diagnosis of moderate-to-severe atopic dermatitis not adequately controlled with other systemic drug products, documented trials with specific topical therapies, and the need for prescription by a dermatologist, allergist, or immunologist. Additionally, there are specific requirements related to age, prior treatments, concurrent medication use, and maximum approvable doses for Rinvoq®.\n",
      "\n",
      "2. Approval criteria for medications used to treat atopic dermatitis include having an FDA-approved diagnosis of moderate-to-severe atopic dermatitis not adequately controlled with topical prescription therapies, being a certain age or older, having documented trial failures with specific topical therapies, being prescribed by a qualified healthcare provider, and potentially meeting certain clinical exceptions. Initial approvals for these medications are typically for a specified duration, with the possibility of reauthorization if the member is responding well to treatment.\n",
      "\n",
      "3. Unique criteria apply for a diagnosis of atopic dermatitis (AD).\n",
      "\n",
      "These points were discussed in the board meetings.\n"
     ]
    }
   ],
   "source": [
    "response = agent.query(\n",
    "    \"was anything discussed about atopic dermatitis in any of the board meeting\"\n",
    "    \"give the source nodes for reference\"\n",
    "    )"
   ]
  },
  {
   "cell_type": "code",
   "execution_count": null,
   "id": "05ae8b07",
   "metadata": {},
   "outputs": [],
   "source": []
  }
 ],
 "metadata": {
  "kernelspec": {
   "display_name": "Python 3 (ipykernel)",
   "language": "python",
   "name": "python3"
  },
  "language_info": {
   "codemirror_mode": {
    "name": "ipython",
    "version": 3
   },
   "file_extension": ".py",
   "mimetype": "text/x-python",
   "name": "python",
   "nbconvert_exporter": "python",
   "pygments_lexer": "ipython3",
   "version": "3.10.6"
  },
  "toc": {
   "base_numbering": 1,
   "nav_menu": {},
   "number_sections": false,
   "sideBar": true,
   "skip_h1_title": false,
   "title_cell": "Table of Contents",
   "title_sidebar": "Contents",
   "toc_cell": false,
   "toc_position": {},
   "toc_section_display": true,
   "toc_window_display": false
  }
 },
 "nbformat": 4,
 "nbformat_minor": 5
}
