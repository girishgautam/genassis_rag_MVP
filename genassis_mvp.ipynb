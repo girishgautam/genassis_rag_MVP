{
 "cells": [
  {
   "cell_type": "code",
   "execution_count": 1,
   "id": "382409cf",
   "metadata": {},
   "outputs": [],
   "source": [
    "import nest_asyncio\n",
    "nest_asyncio.apply()"
   ]
  },
  {
   "cell_type": "code",
   "execution_count": 2,
   "id": "f8be8384",
   "metadata": {},
   "outputs": [],
   "source": [
    "import warnings\n",
    "# Suppress all warnings\n",
    "warnings.filterwarnings(\"ignore\")"
   ]
  },
  {
   "cell_type": "code",
   "execution_count": 3,
   "id": "cd653a82",
   "metadata": {},
   "outputs": [],
   "source": [
    "import os\n",
    "from dotenv import load_dotenv\n",
    "\n",
    "load_dotenv()\n",
    "\n",
    "OPENAI_API_KEY = os.getenv(\"OPENAI_API_KEY\")"
   ]
  },
  {
   "cell_type": "code",
   "execution_count": 4,
   "id": "25a1b7de",
   "metadata": {},
   "outputs": [],
   "source": [
    "from llama_index.llms.openai import OpenAI\n",
    "\n",
    "# llm = OpenAI(model=\"gpt-3.5-turbo\")\n",
    "llm = OpenAI(model=\"gpt-4-turbo-preview\")"
   ]
  },
  {
   "cell_type": "code",
   "execution_count": 5,
   "id": "450510ee",
   "metadata": {},
   "outputs": [],
   "source": [
    "papers = ['board_meeting_dec23.pdf',\n",
    "         'board_meeting_nov23.pdf',\n",
    "         'board_meeting_oct23.pdf']"
   ]
  },
  {
   "cell_type": "code",
   "execution_count": 6,
   "id": "a461bb68",
   "metadata": {},
   "outputs": [
    {
     "name": "stdout",
     "output_type": "stream",
     "text": [
      "Getting tools for paper: board_meeting_dec23.pdf\n",
      "Getting tools for paper: board_meeting_nov23.pdf\n",
      "Getting tools for paper: board_meeting_oct23.pdf\n"
     ]
    }
   ],
   "source": [
    "from utils import get_doc_tools\n",
    "from pathlib import Path\n",
    "\n",
    "paper_to_tools_dict = {}\n",
    "for paper in papers:\n",
    "    print(f\"Getting tools for paper: {paper}\")\n",
    "    vector_tool, summary_tool = get_doc_tools(paper, Path(paper).stem)\n",
    "    paper_to_tools_dict[paper] = [vector_tool, summary_tool]"
   ]
  },
  {
   "cell_type": "code",
   "execution_count": 7,
   "id": "56989fac",
   "metadata": {},
   "outputs": [],
   "source": [
    "# Flatenning the tools in list\n",
    "all_tools = [t for paper in papers for t in paper_to_tools_dict[paper]]"
   ]
  },
  {
   "cell_type": "markdown",
   "id": "91ccee75",
   "metadata": {},
   "source": [
    "# Agents with tool selection capability"
   ]
  },
  {
   "cell_type": "code",
   "execution_count": 8,
   "id": "9025ef25",
   "metadata": {},
   "outputs": [],
   "source": [
    "# define an \"object\" index and retriever over these tools\n",
    "from llama_index.core import VectorStoreIndex\n",
    "from llama_index.core.objects import ObjectIndex\n",
    "\n",
    "obj_index = ObjectIndex.from_objects(\n",
    "    all_tools,\n",
    "    index_cls=VectorStoreIndex,\n",
    ")"
   ]
  },
  {
   "cell_type": "code",
   "execution_count": 9,
   "id": "c3b90368",
   "metadata": {},
   "outputs": [],
   "source": [
    "#Retrive too 3 tools based on the query\n",
    "obj_retriever = obj_index.as_retriever(similarity_top_k=3)"
   ]
  },
  {
   "cell_type": "code",
   "execution_count": 10,
   "id": "c7691c3e",
   "metadata": {},
   "outputs": [
    {
     "data": {
      "text/plain": [
       "ToolMetadata(description='Useful for summarization questions related to board_meeting_nov23', name='summary_tool_board_meeting_nov23', fn_schema=<class 'llama_index.core.tools.types.DefaultToolFnSchema'>, return_direct=False)"
      ]
     },
     "execution_count": 10,
     "metadata": {},
     "output_type": "execute_result"
    }
   ],
   "source": [
    "# example of tools retrived by a simple query\n",
    "tools = obj_retriever.retrieve(\n",
    "    \"summarise the nov 23 board meeting notes\"\n",
    ")\n",
    "tools[0].metadata"
   ]
  },
  {
   "cell_type": "code",
   "execution_count": 11,
   "id": "5685985d",
   "metadata": {},
   "outputs": [],
   "source": [
    "from llama_index.core.agent import FunctionCallingAgentWorker\n",
    "from llama_index.core.agent import AgentRunner\n",
    "\n",
    "agent_worker = FunctionCallingAgentWorker.from_tools(\n",
    "    tool_retriever=obj_retriever,\n",
    "    llm=llm, \n",
    "    system_prompt=\"\"\" \\\n",
    "You are an agent designed to answer queries over a set of given papers.\n",
    "Please always use the tools provided to answer a question. Do not rely on prior knowledge.\\\n",
    "\n",
    "\"\"\",\n",
    "    verbose=True\n",
    ")\n",
    "agent = AgentRunner(agent_worker)"
   ]
  },
  {
   "cell_type": "code",
   "execution_count": 12,
   "id": "c78146f3",
   "metadata": {},
   "outputs": [
    {
     "name": "stdout",
     "output_type": "stream",
     "text": [
      "Added user message to memory: was anything discussed about atopic dermatitis in any of the board meeting\n",
      "=== Calling Function ===\n",
      "Calling function: summary_tool_board_meeting_oct23 with args: {\"input\": \"atopic dermatitis\"}\n",
      "=== Function Output ===\n",
      "The College of Pharmacy's recommendations, the pipeline review report, and the provided information do not mention atopic dermatitis. Tofidence ™(Tocilizumab-bavi) is a biosimilar to Actemra®(Tocilizumab) approved for the treatment of atopic dermatitis in adults with moderate-to-severe atopic dermatitis not adequately controlled with other systemic drug products, including biologics, or when those therapies are not advisable. The unique criteria for the approval of medications for atopic dermatitis include having an FDA-approved diagnosis of atopic dermatitis, confirmation of baseline assessments and follow-up monitoring, and a trial of at least one Tier-1 medication that did not yield adequate relief of symptoms or resulted in intolerable adverse effects in the last 90 days. Additionally, prior stabilization on Tier-2 medication documented within the last 100 days is required for approval. The FDA has not issued any recent updates or warnings specifically related to atopic dermatitis based on the provided information.\n",
      "=== Calling Function ===\n",
      "Calling function: summary_tool_board_meeting_dec23 with args: {\"input\": \"atopic dermatitis\"}\n"
     ]
    },
    {
     "name": "stderr",
     "output_type": "stream",
     "text": [
      "Retrying llama_index.llms.openai.base.OpenAI._achat in 0.41236773593745546 seconds as it raised RateLimitError: Error code: 429 - {'error': {'message': 'Rate limit reached for gpt-3.5-turbo in organization org-Xnt90aHtb4ZX1UUscgKKvCl1 on tokens per min (TPM): Limit 200000, Used 196617, Requested 14726. Please try again in 3.402s. Visit https://platform.openai.com/account/rate-limits to learn more.', 'type': 'tokens', 'param': None, 'code': 'rate_limit_exceeded'}}.\n"
     ]
    },
    {
     "name": "stdout",
     "output_type": "stream",
     "text": [
      "=== Function Output ===\n",
      "Atopic dermatitis is a common, chronic skin condition characterized by red, itchy rashes. It often appears in early childhood and is linked to a combination of genetic and environmental factors. Treatment typically involves moisturizing the skin, avoiding triggers, and using topical corticosteroids or other medications to manage symptoms.\n",
      "=== Calling Function ===\n",
      "Calling function: summary_tool_board_meeting_nov23 with args: {\"input\": \"atopic dermatitis\"}\n"
     ]
    },
    {
     "name": "stderr",
     "output_type": "stream",
     "text": [
      "Retrying llama_index.llms.openai.base.OpenAI._achat in 0.6096044582914619 seconds as it raised RateLimitError: Error code: 429 - {'error': {'message': 'Rate limit reached for gpt-3.5-turbo in organization org-Xnt90aHtb4ZX1UUscgKKvCl1 on tokens per min (TPM): Limit 200000, Used 190068, Requested 13630. Please try again in 1.109s. Visit https://platform.openai.com/account/rate-limits to learn more.', 'type': 'tokens', 'param': None, 'code': 'rate_limit_exceeded'}}.\n",
      "Retrying llama_index.llms.openai.base.OpenAI._achat in 0.3186400107388725 seconds as it raised RateLimitError: Error code: 429 - {'error': {'message': 'Rate limit reached for gpt-3.5-turbo in organization org-Xnt90aHtb4ZX1UUscgKKvCl1 on tokens per min (TPM): Limit 200000, Used 188421, Requested 15010. Please try again in 1.029s. Visit https://platform.openai.com/account/rate-limits to learn more.', 'type': 'tokens', 'param': None, 'code': 'rate_limit_exceeded'}}.\n",
      "Retrying llama_index.llms.openai.base.OpenAI._achat in 0.4283168850316761 seconds as it raised RateLimitError: Error code: 429 - {'error': {'message': 'Rate limit reached for gpt-3.5-turbo in organization org-Xnt90aHtb4ZX1UUscgKKvCl1 on tokens per min (TPM): Limit 200000, Used 199291, Requested 13611. Please try again in 3.87s. Visit https://platform.openai.com/account/rate-limits to learn more.', 'type': 'tokens', 'param': None, 'code': 'rate_limit_exceeded'}}.\n",
      "Retrying llama_index.llms.openai.base.OpenAI._achat in 0.4620501427121433 seconds as it raised RateLimitError: Error code: 429 - {'error': {'message': 'Rate limit reached for gpt-3.5-turbo in organization org-Xnt90aHtb4ZX1UUscgKKvCl1 on tokens per min (TPM): Limit 200000, Used 198656, Requested 14142. Please try again in 3.839s. Visit https://platform.openai.com/account/rate-limits to learn more.', 'type': 'tokens', 'param': None, 'code': 'rate_limit_exceeded'}}.\n",
      "Retrying llama_index.llms.openai.base.OpenAI._achat in 0.2037422454445562 seconds as it raised RateLimitError: Error code: 429 - {'error': {'message': 'Rate limit reached for gpt-3.5-turbo in organization org-Xnt90aHtb4ZX1UUscgKKvCl1 on tokens per min (TPM): Limit 200000, Used 198104, Requested 14867. Please try again in 3.891s. Visit https://platform.openai.com/account/rate-limits to learn more.', 'type': 'tokens', 'param': None, 'code': 'rate_limit_exceeded'}}.\n",
      "Retrying llama_index.llms.openai.base.OpenAI._achat in 0.42717621999752775 seconds as it raised RateLimitError: Error code: 429 - {'error': {'message': 'Rate limit reached for gpt-3.5-turbo in organization org-Xnt90aHtb4ZX1UUscgKKvCl1 on tokens per min (TPM): Limit 200000, Used 197866, Requested 15010. Please try again in 3.862s. Visit https://platform.openai.com/account/rate-limits to learn more.', 'type': 'tokens', 'param': None, 'code': 'rate_limit_exceeded'}}.\n",
      "Retrying llama_index.llms.openai.base.OpenAI._achat in 1.8516675921265917 seconds as it raised RateLimitError: Error code: 429 - {'error': {'message': 'Rate limit reached for gpt-3.5-turbo in organization org-Xnt90aHtb4ZX1UUscgKKvCl1 on tokens per min (TPM): Limit 200000, Used 187157, Requested 14867. Please try again in 607ms. Visit https://platform.openai.com/account/rate-limits to learn more.', 'type': 'tokens', 'param': None, 'code': 'rate_limit_exceeded'}}.\n",
      "Retrying llama_index.llms.openai.base.OpenAI._achat in 0.06927709155062045 seconds as it raised RateLimitError: Error code: 429 - {'error': {'message': 'Rate limit reached for gpt-3.5-turbo in organization org-Xnt90aHtb4ZX1UUscgKKvCl1 on tokens per min (TPM): Limit 200000, Used 187597, Requested 14142. Please try again in 521ms. Visit https://platform.openai.com/account/rate-limits to learn more.', 'type': 'tokens', 'param': None, 'code': 'rate_limit_exceeded'}}.\n",
      "Retrying llama_index.llms.openai.base.OpenAI._achat in 0.5869473451748012 seconds as it raised RateLimitError: Error code: 429 - {'error': {'message': 'Rate limit reached for gpt-3.5-turbo in organization org-Xnt90aHtb4ZX1UUscgKKvCl1 on tokens per min (TPM): Limit 200000, Used 189420, Requested 13611. Please try again in 909ms. Visit https://platform.openai.com/account/rate-limits to learn more.', 'type': 'tokens', 'param': None, 'code': 'rate_limit_exceeded'}}.\n",
      "Retrying llama_index.llms.openai.base.OpenAI._achat in 0.21706119190874373 seconds as it raised RateLimitError: Error code: 429 - {'error': {'message': 'Rate limit reached for gpt-3.5-turbo in organization org-Xnt90aHtb4ZX1UUscgKKvCl1 on tokens per min (TPM): Limit 200000, Used 189331, Requested 14142. Please try again in 1.042s. Visit https://platform.openai.com/account/rate-limits to learn more.', 'type': 'tokens', 'param': None, 'code': 'rate_limit_exceeded'}}.\n",
      "Retrying llama_index.llms.openai.base.OpenAI._achat in 0.012759989005683647 seconds as it raised RateLimitError: Error code: 429 - {'error': {'message': 'Rate limit reached for gpt-3.5-turbo in organization org-Xnt90aHtb4ZX1UUscgKKvCl1 on tokens per min (TPM): Limit 200000, Used 188687, Requested 14867. Please try again in 1.066s. Visit https://platform.openai.com/account/rate-limits to learn more.', 'type': 'tokens', 'param': None, 'code': 'rate_limit_exceeded'}}.\n",
      "Retrying llama_index.llms.openai.base.OpenAI._achat in 0.43458952632527004 seconds as it raised RateLimitError: Error code: 429 - {'error': {'message': 'Rate limit reached for gpt-3.5-turbo in organization org-Xnt90aHtb4ZX1UUscgKKvCl1 on tokens per min (TPM): Limit 200000, Used 188416, Requested 15010. Please try again in 1.027s. Visit https://platform.openai.com/account/rate-limits to learn more.', 'type': 'tokens', 'param': None, 'code': 'rate_limit_exceeded'}}.\n",
      "Retrying llama_index.llms.openai.base.OpenAI._achat in 1.3244406022255788 seconds as it raised RateLimitError: Error code: 429 - {'error': {'message': 'Rate limit reached for gpt-3.5-turbo in organization org-Xnt90aHtb4ZX1UUscgKKvCl1 on tokens per min (TPM): Limit 200000, Used 198515, Requested 14867. Please try again in 4.014s. Visit https://platform.openai.com/account/rate-limits to learn more.', 'type': 'tokens', 'param': None, 'code': 'rate_limit_exceeded'}}.\n",
      "Retrying llama_index.llms.openai.base.OpenAI._achat in 1.7999418227006192 seconds as it raised RateLimitError: Error code: 429 - {'error': {'message': 'Rate limit reached for gpt-3.5-turbo in organization org-Xnt90aHtb4ZX1UUscgKKvCl1 on tokens per min (TPM): Limit 200000, Used 198482, Requested 15010. Please try again in 4.047s. Visit https://platform.openai.com/account/rate-limits to learn more.', 'type': 'tokens', 'param': None, 'code': 'rate_limit_exceeded'}}.\n"
     ]
    },
    {
     "name": "stdout",
     "output_type": "stream",
     "text": [
      "=== Function Output ===\n",
      "Encountered error: APIStatusError.__init__() missing 2 required keyword-only arguments: 'response' and 'body'\n",
      "=== LLM Response ===\n",
      "Atopic dermatitis was discussed in the context of the board meetings as follows:\n",
      "\n",
      "- **October 2023 Meeting**: Atopic dermatitis was mentioned in relation to Tofidence™ (Tocilizumab-bavi), a biosimilar to Actemra® (Tocilizumab) approved for the treatment of adults with moderate-to-severe atopic dermatitis not adequately controlled with other systemic drug products, including biologics, or when those therapies are not advisable. The discussion included unique criteria for the approval of medications for atopic dermatitis, such as having an FDA-approved diagnosis, confirmation of baseline assessments and follow-up monitoring, a trial of at least one Tier-1 medication that did not yield adequate relief of symptoms or resulted in intolerable adverse effects in the last 90 days, and prior stabilization on Tier-2 medication documented within the last 100 days. No recent updates or warnings specifically related to atopic dermatitis were issued by the FDA based on the provided information.\n",
      "\n",
      "- **December 2023 Meeting**: Atopic dermatitis was described as a common, chronic skin condition characterized by red, itchy rashes, often appearing in early childhood and linked to a combination of genetic and environmental factors. Treatment typically involves moisturizing the skin, avoiding triggers, and using topical corticosteroids or other medications to manage symptoms.\n",
      "\n",
      "- **November 2023 Meeting**: There was an error retrieving information from the November 2023 meeting, so it's unclear if atopic dermatitis was discussed during this meeting.\n",
      "\n",
      "These discussions highlight the condition's treatment options and the approval criteria for medications related to atopic dermatitis.\n"
     ]
    }
   ],
   "source": [
    "response = agent.query(\n",
    "    \"was anything discussed about atopic dermatitis in any of the board meeting\"\n",
    ")\n",
    "# print(str(response))"
   ]
  },
  {
   "cell_type": "markdown",
   "id": "250962ab",
   "metadata": {},
   "source": [
    "# Agents without tool selection capabaility"
   ]
  },
  {
   "cell_type": "code",
   "execution_count": 16,
   "id": "b459fc51",
   "metadata": {},
   "outputs": [
    {
     "name": "stderr",
     "output_type": "stream",
     "text": [
      "Retrying llama_index.llms.openai.base.OpenAI._achat in 0.13419521617871122 seconds as it raised RateLimitError: Error code: 429 - {'error': {'message': 'Rate limit reached for gpt-3.5-turbo in organization org-Xnt90aHtb4ZX1UUscgKKvCl1 on tokens per min (TPM): Limit 60000, Used 59180, Requested 14143. Please try again in 13.323s. Visit https://platform.openai.com/account/rate-limits to learn more.', 'type': 'tokens', 'param': None, 'code': 'rate_limit_exceeded'}}.\n",
      "Retrying llama_index.llms.openai.base.OpenAI._achat in 0.16715793050082572 seconds as it raised RateLimitError: Error code: 429 - {'error': {'message': 'Rate limit reached for gpt-3.5-turbo in organization org-Xnt90aHtb4ZX1UUscgKKvCl1 on tokens per min (TPM): Limit 60000, Used 58529, Requested 14867. Please try again in 13.396s. Visit https://platform.openai.com/account/rate-limits to learn more.', 'type': 'tokens', 'param': None, 'code': 'rate_limit_exceeded'}}.\n",
      "Retrying llama_index.llms.openai.base.OpenAI._achat in 0.6286034934355036 seconds as it raised RateLimitError: Error code: 429 - {'error': {'message': 'Rate limit reached for gpt-3.5-turbo in organization org-Xnt90aHtb4ZX1UUscgKKvCl1 on tokens per min (TPM): Limit 60000, Used 58339, Requested 15010. Please try again in 13.349s. Visit https://platform.openai.com/account/rate-limits to learn more.', 'type': 'tokens', 'param': None, 'code': 'rate_limit_exceeded'}}.\n"
     ]
    }
   ],
   "source": [
    "agent_worker = FunctionCallingAgentWorker.from_tools(\n",
    "    all_tools, \n",
    "    llm=llm, \n",
    "    verbose=True\n",
    ")\n",
    "agent = AgentRunner(agent_worker)"
   ]
  },
  {
   "cell_type": "code",
   "execution_count": 17,
   "id": "45cfded0",
   "metadata": {},
   "outputs": [
    {
     "name": "stdout",
     "output_type": "stream",
     "text": [
      "Added user message to memory: what was discussed about Annual Review of Imcivree during october 2023 board meetingsummarise the discussion\n",
      "=== Calling Function ===\n",
      "Calling function: vector_tool_board_meeting_oct23 with args: {\"query\": \"Annual Review of Imcivree\"}\n",
      "=== Function Output ===\n",
      "The annual review of Imcivree includes utilization details such as total claims, total members, total cost, cost per claim, claims per member, and percentage of cost. Additionally, it provides information on the demographics of members utilizing Imcivree, top prescriber specialties, and the status of prior authorization requests submitted during fiscal year 2023.\n",
      "=== Calling Function ===\n",
      "Calling function: summary_tool_board_meeting_oct23 with args: {\"input\": \"The annual review of Imcivree includes utilization details such as total claims, total members, total cost, cost per claim, claims per member, and percentage of cost. Additionally, it provides information on the demographics of members utilizing Imcivree, top prescriber specialties, and the status of prior authorization requests submitted during fiscal year 2023.\"}\n"
     ]
    },
    {
     "name": "stderr",
     "output_type": "stream",
     "text": [
      "Retrying llama_index.llms.openai.base.OpenAI._achat in 0.5745166704174774 seconds as it raised RateLimitError: Error code: 429 - {'error': {'message': 'Rate limit reached for gpt-3.5-turbo in organization org-Xnt90aHtb4ZX1UUscgKKvCl1 on tokens per min (TPM): Limit 60000, Used 59340, Requested 14160. Please try again in 13.5s. Visit https://platform.openai.com/account/rate-limits to learn more.', 'type': 'tokens', 'param': None, 'code': 'rate_limit_exceeded'}}.\n",
      "Retrying llama_index.llms.openai.base.OpenAI._achat in 0.38021385133120944 seconds as it raised RateLimitError: Error code: 429 - {'error': {'message': 'Rate limit reached for gpt-3.5-turbo in organization org-Xnt90aHtb4ZX1UUscgKKvCl1 on tokens per min (TPM): Limit 60000, Used 59308, Requested 14243. Please try again in 13.551s. Visit https://platform.openai.com/account/rate-limits to learn more.', 'type': 'tokens', 'param': None, 'code': 'rate_limit_exceeded'}}.\n",
      "Retrying llama_index.llms.openai.base.OpenAI._achat in 0.24618297166591052 seconds as it raised RateLimitError: Error code: 429 - {'error': {'message': 'Rate limit reached for gpt-3.5-turbo in organization org-Xnt90aHtb4ZX1UUscgKKvCl1 on tokens per min (TPM): Limit 60000, Used 59095, Requested 14507. Please try again in 13.602s. Visit https://platform.openai.com/account/rate-limits to learn more.', 'type': 'tokens', 'param': None, 'code': 'rate_limit_exceeded'}}.\n",
      "Retrying llama_index.llms.openai.base.OpenAI._achat in 1.463205861580148 seconds as it raised RateLimitError: Error code: 429 - {'error': {'message': 'Rate limit reached for gpt-3.5-turbo in organization org-Xnt90aHtb4ZX1UUscgKKvCl1 on tokens per min (TPM): Limit 60000, Used 59320, Requested 14507. Please try again in 13.827s. Visit https://platform.openai.com/account/rate-limits to learn more.', 'type': 'tokens', 'param': None, 'code': 'rate_limit_exceeded'}}.\n"
     ]
    },
    {
     "name": "stdout",
     "output_type": "stream",
     "text": [
      "=== Function Output ===\n",
      "The annual review of Imcivree for fiscal year 2023 covers utilization details like total claims, total members, total cost, cost per claim, claims per member, and the percentage of cost. It also includes information on the demographics of members using Imcivree, top prescriber specialties, and the status of prior authorization requests submitted during the fiscal year.\n",
      "=== LLM Response ===\n",
      "During the October 2023 board meeting, the annual review of Imcivree was discussed, focusing on utilization details such as total claims, total members, total cost, cost per claim, claims per member, and the percentage of cost. The review also provided insights into the demographics of members using Imcivree, the specialties of the top prescribers, and the status of prior authorization requests submitted throughout fiscal year 2023.\n"
     ]
    }
   ],
   "source": [
    "response = agent.query(\n",
    "    \"what was discussed about Annual Review of Imcivree during october 2023 board meeting\"\n",
    "    \"summarise the discussion\"    \n",
    ")"
   ]
  },
  {
   "cell_type": "code",
   "execution_count": null,
   "id": "18bdd054",
   "metadata": {
    "scrolled": false
   },
   "outputs": [],
   "source": [
    "# response = agent.query(\n",
    "#     \"was anything discussed about atopic dermatitis in any of the board meeting\"\n",
    "#     )"
   ]
  },
  {
   "cell_type": "code",
   "execution_count": null,
   "id": "658ea897",
   "metadata": {},
   "outputs": [],
   "source": [
    "# response = agent.query(\n",
    "#     \"was anything discussed about atopic dermatitis in any of the board meeting\"\n",
    "#     \"give the source nodes for reference\"\n",
    "#     )"
   ]
  },
  {
   "cell_type": "code",
   "execution_count": null,
   "id": "05ae8b07",
   "metadata": {},
   "outputs": [],
   "source": []
  }
 ],
 "metadata": {
  "kernelspec": {
   "display_name": "Python 3 (ipykernel)",
   "language": "python",
   "name": "python3"
  },
  "language_info": {
   "codemirror_mode": {
    "name": "ipython",
    "version": 3
   },
   "file_extension": ".py",
   "mimetype": "text/x-python",
   "name": "python",
   "nbconvert_exporter": "python",
   "pygments_lexer": "ipython3",
   "version": "3.10.6"
  },
  "toc": {
   "base_numbering": 1,
   "nav_menu": {},
   "number_sections": false,
   "sideBar": true,
   "skip_h1_title": false,
   "title_cell": "Table of Contents",
   "title_sidebar": "Contents",
   "toc_cell": false,
   "toc_position": {},
   "toc_section_display": true,
   "toc_window_display": false
  }
 },
 "nbformat": 4,
 "nbformat_minor": 5
}
