{
 "cells": [
  {
   "cell_type": "code",
   "execution_count": 2,
   "id": "382409cf",
   "metadata": {},
   "outputs": [],
   "source": [
    "import nest_asyncio\n",
    "nest_asyncio.apply()"
   ]
  },
  {
   "cell_type": "code",
   "execution_count": 25,
   "id": "f8be8384",
   "metadata": {},
   "outputs": [],
   "source": [
    "import warnings\n",
    "\n",
    "# Suppress all warnings\n",
    "warnings.filterwarnings(\"ignore\")"
   ]
  },
  {
   "cell_type": "code",
   "execution_count": 3,
   "id": "cd653a82",
   "metadata": {},
   "outputs": [],
   "source": [
    "import os\n",
    "from dotenv import load_dotenv\n",
    "\n",
    "load_dotenv()\n",
    "\n",
    "OPENAI_API_KEY = os.getenv(\"OPENAI_API_KEY\")"
   ]
  },
  {
   "cell_type": "code",
   "execution_count": 16,
   "id": "25a1b7de",
   "metadata": {},
   "outputs": [],
   "source": [
    "from llama_index.llms.openai import OpenAI\n",
    "\n",
    "llm = OpenAI(model=\"gpt-3.5-turbo\")"
   ]
  },
  {
   "cell_type": "code",
   "execution_count": 6,
   "id": "450510ee",
   "metadata": {},
   "outputs": [],
   "source": [
    "papers = ['board_meeting_dec23.pdf',\n",
    "         'board_meeting_nov23.pdf',\n",
    "         'board_meeting_oct23.pdf']"
   ]
  },
  {
   "cell_type": "code",
   "execution_count": 7,
   "id": "a461bb68",
   "metadata": {},
   "outputs": [
    {
     "name": "stdout",
     "output_type": "stream",
     "text": [
      "Getting tools for paper: board_meeting_dec23.pdf\n",
      "Getting tools for paper: board_meeting_nov23.pdf\n",
      "Getting tools for paper: board_meeting_oct23.pdf\n"
     ]
    }
   ],
   "source": [
    "from utils import get_doc_tools\n",
    "from pathlib import Path\n",
    "\n",
    "paper_to_tools_dict = {}\n",
    "for paper in papers:\n",
    "    print(f\"Getting tools for paper: {paper}\")\n",
    "    vector_tool, summary_tool = get_doc_tools(paper, Path(paper).stem)\n",
    "    paper_to_tools_dict[paper] = [vector_tool, summary_tool]"
   ]
  },
  {
   "cell_type": "code",
   "execution_count": 8,
   "id": "56989fac",
   "metadata": {},
   "outputs": [],
   "source": [
    "all_tools = [t for paper in papers for t in paper_to_tools_dict[paper]]"
   ]
  },
  {
   "cell_type": "markdown",
   "id": "91ccee75",
   "metadata": {},
   "source": [
    "# Agents with tool selection capability"
   ]
  },
  {
   "cell_type": "code",
   "execution_count": 10,
   "id": "9025ef25",
   "metadata": {},
   "outputs": [],
   "source": [
    "# define an \"object\" index and retriever over these tools\n",
    "from llama_index.core import VectorStoreIndex\n",
    "from llama_index.core.objects import ObjectIndex\n",
    "\n",
    "obj_index = ObjectIndex.from_objects(\n",
    "    all_tools,\n",
    "    index_cls=VectorStoreIndex,\n",
    ")"
   ]
  },
  {
   "cell_type": "code",
   "execution_count": 11,
   "id": "c3b90368",
   "metadata": {},
   "outputs": [],
   "source": [
    "obj_retriever = obj_index.as_retriever(similarity_top_k=3)"
   ]
  },
  {
   "cell_type": "code",
   "execution_count": 12,
   "id": "c7691c3e",
   "metadata": {},
   "outputs": [],
   "source": [
    "tools = obj_retriever.retrieve(\n",
    "    \"summarise the nov 23 board meeting notes\"\n",
    ")"
   ]
  },
  {
   "cell_type": "code",
   "execution_count": 14,
   "id": "1a2e17db",
   "metadata": {},
   "outputs": [
    {
     "data": {
      "text/plain": [
       "ToolMetadata(description='Useful for summarization questions related to board_meeting_dec23', name='summary_tool_board_meeting_dec23', fn_schema=<class 'llama_index.core.tools.types.DefaultToolFnSchema'>, return_direct=False)"
      ]
     },
     "execution_count": 14,
     "metadata": {},
     "output_type": "execute_result"
    }
   ],
   "source": [
    "tools[1].metadata"
   ]
  },
  {
   "cell_type": "code",
   "execution_count": 17,
   "id": "5685985d",
   "metadata": {},
   "outputs": [],
   "source": [
    "from llama_index.core.agent import FunctionCallingAgentWorker\n",
    "from llama_index.core.agent import AgentRunner\n",
    "\n",
    "agent_worker = FunctionCallingAgentWorker.from_tools(\n",
    "    tool_retriever=obj_retriever,\n",
    "    llm=llm, \n",
    "    system_prompt=\"\"\" \\\n",
    "You are an agent designed to answer queries over a set of given papers.\n",
    "Please always use the tools provided to answer a question. Do not rely on prior knowledge.\\\n",
    "\n",
    "\"\"\",\n",
    "    verbose=True\n",
    ")\n",
    "agent = AgentRunner(agent_worker)"
   ]
  },
  {
   "cell_type": "code",
   "execution_count": 28,
   "id": "c78146f3",
   "metadata": {},
   "outputs": [
    {
     "name": "stdout",
     "output_type": "stream",
     "text": [
      "Added user message to memory: what was discussed about Annual Review of Imcivree during october 2023 board meeting summarise the discussion\n",
      "=== Calling Function ===\n",
      "Calling function: summary_tool_board_meeting_oct23 with args: {\"input\": \"Annual Review of Imcivree\"}\n"
     ]
    },
    {
     "name": "stderr",
     "output_type": "stream",
     "text": [
      "Retrying llama_index.llms.openai.base.OpenAI._achat in 0.46535758052357656 seconds as it raised RateLimitError: Error code: 429 - {'error': {'message': 'Rate limit reached for gpt-3.5-turbo in organization org-Xnt90aHtb4ZX1UUscgKKvCl1 on tokens per min (TPM): Limit 60000, Used 59339, Requested 14528. Please try again in 13.867s. Visit https://platform.openai.com/account/rate-limits to learn more.', 'type': 'tokens', 'param': None, 'code': 'rate_limit_exceeded'}}.\n"
     ]
    },
    {
     "name": "stdout",
     "output_type": "stream",
     "text": [
      "=== Function Output ===\n",
      "The Annual Review of Imcivree is not included or mentioned in the context information provided.\n",
      "=== LLM Response ===\n",
      "The Annual Review of Imcivree was not discussed during the October 2023 board meeting.\n"
     ]
    }
   ],
   "source": [
    "response = agent.query(\n",
    "    \"what was discussed about Annual Review of Imcivree during october 2023 board meeting\"\n",
    "    \" summarise the discussion\"\n",
    ")\n",
    "# print(str(response))"
   ]
  },
  {
   "cell_type": "markdown",
   "id": "250962ab",
   "metadata": {},
   "source": [
    "# Agents without tool selection capabaility"
   ]
  },
  {
   "cell_type": "code",
   "execution_count": 22,
   "id": "b459fc51",
   "metadata": {},
   "outputs": [],
   "source": [
    "agent_worker = FunctionCallingAgentWorker.from_tools(\n",
    "    all_tools, \n",
    "    llm=llm, \n",
    "    verbose=True\n",
    ")\n",
    "agent = AgentRunner(agent_worker)"
   ]
  },
  {
   "cell_type": "code",
   "execution_count": 29,
   "id": "45cfded0",
   "metadata": {},
   "outputs": [
    {
     "name": "stdout",
     "output_type": "stream",
     "text": [
      "Added user message to memory: what was discussed about Annual Review of Imcivree during october 2023 board meetingsummarise the discussion\n",
      "=== Calling Function ===\n",
      "Calling function: vector_tool_board_meeting_oct23 with args: {\"query\": \"Annual Review of Imcivree\"}\n",
      "=== Function Output ===\n",
      "The annual review of Imcivree for fiscal year 2023 includes details on the product's utilization, total claims, total members, costs, cost per claim, claims per member, and the demographics of members utilizing Imcivree. Additionally, it provides information on the top prescriber specialties, prior authorization requests, and the status of those requests during the fiscal year.\n",
      "=== Calling Function ===\n",
      "Calling function: summary_tool_board_meeting_oct23 with args: {\"input\": \"The annual review of Imcivree for fiscal year 2023 includes details on the product's utilization, total claims, total members, costs, cost per claim, claims per member, and the demographics of members utilizing Imcivree. Additionally, it provides information on the top prescriber specialties, prior authorization requests, and the status of those requests during the fiscal year.\"}\n"
     ]
    },
    {
     "name": "stderr",
     "output_type": "stream",
     "text": [
      "Retrying llama_index.llms.openai.base.OpenAI._achat in 0.5513967495071239 seconds as it raised RateLimitError: Error code: 429 - {'error': {'message': 'Rate limit reached for gpt-3.5-turbo in organization org-Xnt90aHtb4ZX1UUscgKKvCl1 on tokens per min (TPM): Limit 60000, Used 47809, Requested 14248. Please try again in 2.057s. Visit https://platform.openai.com/account/rate-limits to learn more.', 'type': 'tokens', 'param': None, 'code': 'rate_limit_exceeded'}}.\n",
      "Retrying llama_index.llms.openai.base.OpenAI._achat in 0.9519961834235094 seconds as it raised RateLimitError: Error code: 429 - {'error': {'message': 'Rate limit reached for gpt-3.5-turbo in organization org-Xnt90aHtb4ZX1UUscgKKvCl1 on tokens per min (TPM): Limit 60000, Used 47809, Requested 14162. Please try again in 1.97s. Visit https://platform.openai.com/account/rate-limits to learn more.', 'type': 'tokens', 'param': None, 'code': 'rate_limit_exceeded'}}.\n",
      "Retrying llama_index.llms.openai.base.OpenAI._achat in 0.6512145031393485 seconds as it raised RateLimitError: Error code: 429 - {'error': {'message': 'Rate limit reached for gpt-3.5-turbo in organization org-Xnt90aHtb4ZX1UUscgKKvCl1 on tokens per min (TPM): Limit 60000, Used 47799, Requested 14296. Please try again in 2.095s. Visit https://platform.openai.com/account/rate-limits to learn more.', 'type': 'tokens', 'param': None, 'code': 'rate_limit_exceeded'}}.\n",
      "Retrying llama_index.llms.openai.base.OpenAI._achat in 1.8561467401786433 seconds as it raised RateLimitError: Error code: 429 - {'error': {'message': 'Rate limit reached for gpt-3.5-turbo in organization org-Xnt90aHtb4ZX1UUscgKKvCl1 on tokens per min (TPM): Limit 60000, Used 59712, Requested 14296. Please try again in 14.008s. Visit https://platform.openai.com/account/rate-limits to learn more.', 'type': 'tokens', 'param': None, 'code': 'rate_limit_exceeded'}}.\n"
     ]
    },
    {
     "name": "stdout",
     "output_type": "stream",
     "text": [
      "=== Function Output ===\n",
      "There is no information provided in the context about Imcivree or its utilization, total claims, total members, costs, cost per claim, claims per member, demographics of members, top prescriber specialties, or prior authorization requests related to Imcivree for fiscal year 2023.\n",
      "=== LLM Response ===\n",
      "There is no specific information provided in the context about the Annual Review of Imcivree during the October 2023 board meeting.\n"
     ]
    }
   ],
   "source": [
    "response = agent.query(\n",
    "    \"what was discussed about Annual Review of Imcivree during october 2023 board meeting\"\n",
    "    \"summarise the discussion\"    \n",
    ")"
   ]
  },
  {
   "cell_type": "code",
   "execution_count": 24,
   "id": "18bdd054",
   "metadata": {},
   "outputs": [
    {
     "name": "stdout",
     "output_type": "stream",
     "text": [
      "Added user message to memory: Summariese november 2023 board meeting\n",
      "=== Calling Function ===\n",
      "Calling function: summary_tool_board_meeting_nov23 with args: {\"input\": \"Summarize the November 2023 board meeting.\"}\n"
     ]
    },
    {
     "name": "stderr",
     "output_type": "stream",
     "text": [
      "Retrying llama_index.llms.openai.base.OpenAI._achat in 0.13498748348832257 seconds as it raised RateLimitError: Error code: 429 - {'error': {'message': 'Rate limit reached for gpt-3.5-turbo in organization org-Xnt90aHtb4ZX1UUscgKKvCl1 on tokens per min (TPM): Limit 60000, Used 58462, Requested 14867. Please try again in 13.329s. Visit https://platform.openai.com/account/rate-limits to learn more.', 'type': 'tokens', 'param': None, 'code': 'rate_limit_exceeded'}}.\n"
     ]
    },
    {
     "name": "stdout",
     "output_type": "stream",
     "text": [
      "=== Function Output ===\n",
      "The November 2023 board meeting covered a wide range of topics related to medication approvals, prior authorizations, and updates. Discussions included recommendations for prior authorizations of various medications for conditions like anemia, muscular dystrophy, hepatitis C, asthma, COPD, nasal polyps, and dry eye disease. New FDA approvals were highlighted, including treatments for Duchenne muscular dystrophy, anemia, alopecia areata, and gout flares. The meeting also addressed changes to approval criteria for existing medications, updates on utilization details, market news, and anticipated patent expirations. Additionally, there were discussions on drug shortages, new therapies like Tibsovo® for rare blood cancers, and concerns regarding probiotic products for hospitalized preterm infants.\n",
      "=== LLM Response ===\n",
      "The November 2023 board meeting covered a wide range of topics related to medication approvals, prior authorizations, and updates. Discussions included recommendations for prior authorizations of various medications for conditions like anemia, muscular dystrophy, hepatitis C, asthma, COPD, nasal polyps, and dry eye disease. New FDA approvals were highlighted, including treatments for Duchenne muscular dystrophy, anemia, alopecia areata, and gout flares. The meeting also addressed changes to approval criteria for existing medications, updates on utilization details, market news, and anticipated patent expirations. Additionally, there were discussions on drug shortages, new therapies like Tibsovo® for rare blood cancers, and concerns regarding probiotic products for hospitalized preterm infants.\n"
     ]
    }
   ],
   "source": [
    "response = agent.query(\n",
    "    \"Summariese november 2023 board meeting\"\n",
    "    )"
   ]
  },
  {
   "cell_type": "code",
   "execution_count": null,
   "id": "f783bd85",
   "metadata": {},
   "outputs": [],
   "source": []
  },
  {
   "cell_type": "code",
   "execution_count": null,
   "id": "658ea897",
   "metadata": {},
   "outputs": [],
   "source": []
  },
  {
   "cell_type": "code",
   "execution_count": null,
   "id": "05ae8b07",
   "metadata": {},
   "outputs": [],
   "source": []
  }
 ],
 "metadata": {
  "kernelspec": {
   "display_name": "Python 3 (ipykernel)",
   "language": "python",
   "name": "python3"
  },
  "language_info": {
   "codemirror_mode": {
    "name": "ipython",
    "version": 3
   },
   "file_extension": ".py",
   "mimetype": "text/x-python",
   "name": "python",
   "nbconvert_exporter": "python",
   "pygments_lexer": "ipython3",
   "version": "3.10.6"
  },
  "toc": {
   "base_numbering": 1,
   "nav_menu": {},
   "number_sections": false,
   "sideBar": true,
   "skip_h1_title": false,
   "title_cell": "Table of Contents",
   "title_sidebar": "Contents",
   "toc_cell": false,
   "toc_position": {},
   "toc_section_display": true,
   "toc_window_display": false
  }
 },
 "nbformat": 4,
 "nbformat_minor": 5
}
